{
 "cells": [
  {
   "cell_type": "code",
   "execution_count": 29,
   "id": "3d2f8dcf-446d-45ef-b975-f7bcddb17a07",
   "metadata": {},
   "outputs": [],
   "source": [
    "import os,re,pickle\n",
    "import datetime\n",
    "import pytz\n",
    "import multiprocessing\n",
    "\n",
    "import pandas as pd\n",
    "import numpy as np\n",
    "import seaborn as sns\n",
    "import matplotlib.pyplot as plt\n",
    "\n",
    "from Sastrawi.Stemmer.StemmerFactory import StemmerFactory\n",
    "from nltk.tokenize import RegexpTokenizer\n",
    "from nltk.corpus import stopwords\n",
    "from bs4 import BeautifulSoup\n",
    "\n",
    "import warnings\n",
    "warnings.filterwarnings('ignore')\n",
    "\n",
    "from sklearn.feature_extraction.text import CountVectorizer,TfidfVectorizer\n",
    "from sklearn.model_selection import train_test_split\n",
    "from sklearn.ensemble import RandomForestClassifier\n",
    "from sklearn.svm import SVC\n",
    "from sklearn import model_selection\n",
    "from sklearn.utils import class_weight\n",
    "from sklearn.metrics import classification_report\n",
    "from sklearn.metrics import confusion_matrix\n",
    "from sklearn.metrics import classification_report,accuracy_score,f1_score,roc_auc_score,confusion_matrix,ConfusionMatrixDisplay\n"
   ]
  },
  {
   "cell_type": "code",
   "execution_count": 35,
   "id": "867cc0f6-d163-436e-ab87-6aac89b20e71",
   "metadata": {},
   "outputs": [
    {
     "data": {
      "text/plain": [
       "'1.2.4'"
      ]
     },
     "execution_count": 35,
     "metadata": {},
     "output_type": "execute_result"
    }
   ],
   "source": [
    "pd.__version__"
   ]
  },
  {
   "cell_type": "code",
   "execution_count": 3,
   "id": "6dc9cec6-74f1-4ab8-a925-6375376365bb",
   "metadata": {},
   "outputs": [
    {
     "data": {
      "text/html": [
       "<div>\n",
       "<style scoped>\n",
       "    .dataframe tbody tr th:only-of-type {\n",
       "        vertical-align: middle;\n",
       "    }\n",
       "\n",
       "    .dataframe tbody tr th {\n",
       "        vertical-align: top;\n",
       "    }\n",
       "\n",
       "    .dataframe thead th {\n",
       "        text-align: right;\n",
       "    }\n",
       "</style>\n",
       "<table border=\"1\" class=\"dataframe\">\n",
       "  <thead>\n",
       "    <tr style=\"text-align: right;\">\n",
       "      <th></th>\n",
       "      <th>id</th>\n",
       "      <th>sentiment</th>\n",
       "      <th>text_tweet</th>\n",
       "    </tr>\n",
       "  </thead>\n",
       "  <tbody>\n",
       "    <tr>\n",
       "      <th>0</th>\n",
       "      <td>1</td>\n",
       "      <td>positive</td>\n",
       "      <td>&lt;USER_MENTION&gt; #BOIKOT_&lt;PROVIDER_NAME&gt; Gunakan...</td>\n",
       "    </tr>\n",
       "    <tr>\n",
       "      <th>1</th>\n",
       "      <td>2</td>\n",
       "      <td>positive</td>\n",
       "      <td>Saktinya balik lagi, alhamdulillah :v &lt;PROVIDE...</td>\n",
       "    </tr>\n",
       "    <tr>\n",
       "      <th>2</th>\n",
       "      <td>3</td>\n",
       "      <td>negative</td>\n",
       "      <td>Selamat pagi &lt;PROVIDER_NAME&gt;  bisa bantu kenap...</td>\n",
       "    </tr>\n",
       "    <tr>\n",
       "      <th>3</th>\n",
       "      <td>4</td>\n",
       "      <td>negative</td>\n",
       "      <td>Dear &lt;PROVIDER_NAME&gt; akhir2 ini jaringan data ...</td>\n",
       "    </tr>\n",
       "    <tr>\n",
       "      <th>4</th>\n",
       "      <td>5</td>\n",
       "      <td>negative</td>\n",
       "      <td>Selamat malam PENDUSTA &lt;PROVIDER_NAME&gt;</td>\n",
       "    </tr>\n",
       "  </tbody>\n",
       "</table>\n",
       "</div>"
      ],
      "text/plain": [
       "   id sentiment                                         text_tweet\n",
       "0   1  positive  <USER_MENTION> #BOIKOT_<PROVIDER_NAME> Gunakan...\n",
       "1   2  positive  Saktinya balik lagi, alhamdulillah :v <PROVIDE...\n",
       "2   3  negative  Selamat pagi <PROVIDER_NAME>  bisa bantu kenap...\n",
       "3   4  negative  Dear <PROVIDER_NAME> akhir2 ini jaringan data ...\n",
       "4   5  negative            Selamat malam PENDUSTA <PROVIDER_NAME> "
      ]
     },
     "execution_count": 3,
     "metadata": {},
     "output_type": "execute_result"
    }
   ],
   "source": [
    "data = pd.read_csv('../data/dataset_tweet_sentiment_cellular_service_provider.csv')\n",
    "data.columns = ['id','sentiment','text_tweet']\n",
    "data.head()"
   ]
  },
  {
   "cell_type": "code",
   "execution_count": 4,
   "id": "f8280a78-9bd4-45c9-a849-501cd6edab3b",
   "metadata": {},
   "outputs": [
    {
     "data": {
      "text/plain": [
       "<AxesSubplot:xlabel='sentiment', ylabel='count'>"
      ]
     },
     "execution_count": 4,
     "metadata": {},
     "output_type": "execute_result"
    },
    {
     "data": {
      "image/png": "[encoded data removed]",
      "text/plain": [
       "<Figure size 432x288 with 1 Axes>"
      ]
     },
     "metadata": {
      "needs_background": "light"
     },
     "output_type": "display_data"
    }
   ],
   "source": [
    "sns.countplot(data.sentiment)"
   ]
  },
  {
   "cell_type": "code",
   "execution_count": 5,
   "id": "864076e8-c53b-4454-8e12-aff7f2ef903c",
   "metadata": {},
   "outputs": [
    {
     "data": {
      "text/plain": [
       "negative    161\n",
       "positive    139\n",
       "Name: sentiment, dtype: int64"
      ]
     },
     "execution_count": 5,
     "metadata": {},
     "output_type": "execute_result"
    }
   ],
   "source": [
    "data.sentiment.value_counts()"
   ]
  },
  {
   "cell_type": "code",
   "execution_count": 6,
   "id": "a50adb1a-db01-469b-aef7-009da2f3c0ad",
   "metadata": {},
   "outputs": [],
   "source": [
    "data['sentiment_value'] = [1 if x=='positive' else 0 for x in data.sentiment]"
   ]
  },
  {
   "cell_type": "markdown",
   "id": "50b5affc-d0f8-41d2-a68a-99621ff6580b",
   "metadata": {
    "tags": []
   },
   "source": [
    "### Text Preprocessing"
   ]
  },
  {
   "cell_type": "code",
   "execution_count": 7,
   "id": "ca3f2542-3582-4691-906d-1f297754f1e3",
   "metadata": {},
   "outputs": [],
   "source": [
    "from Sastrawi.Stemmer.StemmerFactory import StemmerFactory\n",
    "from nltk.tokenize import RegexpTokenizer\n",
    "from nltk.corpus import stopwords\n",
    "import re\n",
    "from bs4 import BeautifulSoup\n",
    "\n",
    "slangwords = pd.read_csv(\"../data/list_slang_words.csv\")\n",
    "slangwords = slangwords[['slang','formal']]\n",
    "dict_slang = slangwords.set_index('slang').T.to_dict('records')[0]\n",
    "\n",
    "factory = StemmerFactory()\n",
    "stemmer = factory.create_stemmer()\n",
    "\n",
    "# eng_stopwords = stopwords.words('english')\n",
    "# idn_stopwords = stopwords.words('indonesian')\n",
    "\n",
    "# stop_words = idn_stopwords + eng_stopwords\n",
    "\n",
    "TOKENIZER = RegexpTokenizer(r'\\w+')\n",
    "\n",
    "def process_text(word):\n",
    "    final = []\n",
    "    word = str(word).lower().strip()\n",
    "    soup = BeautifulSoup(word, \"html.parser\")\n",
    "  \n",
    "    for data in soup(['style', 'script']):\n",
    "        data.decompose()\n",
    "    word = ' '.join(soup.stripped_strings)\n",
    "    \n",
    "    for token in TOKENIZER.tokenize(word):\n",
    "        if len(token) > 1: \n",
    "            if token in dict_slang.keys():\n",
    "                token = dict_slang[token]\n",
    "            final.append(token)\n",
    "    word = \" \".join(final).strip()\n",
    "    word = stemmer.stem(word)\n",
    "        \n",
    "                \n",
    "    return word"
   ]
  },
  {
   "cell_type": "code",
   "execution_count": 8,
   "id": "16329ee7-b871-48ba-a4dc-3d320f4bfcf9",
   "metadata": {},
   "outputs": [
    {
     "name": "stdout",
     "output_type": "stream",
     "text": [
      "CPU times: user 41.4 s, sys: 224 ms, total: 41.6 s\n",
      "Wall time: 41.8 s\n"
     ]
    }
   ],
   "source": [
    "%time data[\"clean_text\"] = data.text_tweet.apply(lambda x:process_text(x))"
   ]
  },
  {
   "cell_type": "code",
   "execution_count": 9,
   "id": "4e876415-2bbd-450f-84a9-a2cec1c3585d",
   "metadata": {},
   "outputs": [
    {
     "data": {
      "text/html": [
       "<div>\n",
       "<style scoped>\n",
       "    .dataframe tbody tr th:only-of-type {\n",
       "        vertical-align: middle;\n",
       "    }\n",
       "\n",
       "    .dataframe tbody tr th {\n",
       "        vertical-align: top;\n",
       "    }\n",
       "\n",
       "    .dataframe thead th {\n",
       "        text-align: right;\n",
       "    }\n",
       "</style>\n",
       "<table border=\"1\" class=\"dataframe\">\n",
       "  <thead>\n",
       "    <tr style=\"text-align: right;\">\n",
       "      <th></th>\n",
       "      <th>id</th>\n",
       "      <th>sentiment</th>\n",
       "      <th>text_tweet</th>\n",
       "      <th>sentiment_value</th>\n",
       "      <th>clean_text</th>\n",
       "    </tr>\n",
       "  </thead>\n",
       "  <tbody>\n",
       "    <tr>\n",
       "      <th>0</th>\n",
       "      <td>1</td>\n",
       "      <td>positive</td>\n",
       "      <td>&lt;USER_MENTION&gt; #BOIKOT_&lt;PROVIDER_NAME&gt; Gunakan...</td>\n",
       "      <td>1</td>\n",
       "      <td>boikot guna produk bangsa sendiri</td>\n",
       "    </tr>\n",
       "    <tr>\n",
       "      <th>1</th>\n",
       "      <td>2</td>\n",
       "      <td>positive</td>\n",
       "      <td>Saktinya balik lagi, alhamdulillah :v &lt;PROVIDE...</td>\n",
       "      <td>1</td>\n",
       "      <td>sakti balik lagi alhamdulillah</td>\n",
       "    </tr>\n",
       "    <tr>\n",
       "      <th>2</th>\n",
       "      <td>3</td>\n",
       "      <td>negative</td>\n",
       "      <td>Selamat pagi &lt;PROVIDER_NAME&gt;  bisa bantu kenap...</td>\n",
       "      <td>0</td>\n",
       "      <td>selamat pagi bisa bantu kenapa di dalam kamar ...</td>\n",
       "    </tr>\n",
       "    <tr>\n",
       "      <th>3</th>\n",
       "      <td>4</td>\n",
       "      <td>negative</td>\n",
       "      <td>Dear &lt;PROVIDER_NAME&gt; akhir2 ini jaringan data ...</td>\n",
       "      <td>0</td>\n",
       "      <td>dear akhir2 ini jaring data lot banget padahal</td>\n",
       "    </tr>\n",
       "    <tr>\n",
       "      <th>4</th>\n",
       "      <td>5</td>\n",
       "      <td>negative</td>\n",
       "      <td>Selamat malam PENDUSTA &lt;PROVIDER_NAME&gt;</td>\n",
       "      <td>0</td>\n",
       "      <td>selamat malam dusta</td>\n",
       "    </tr>\n",
       "  </tbody>\n",
       "</table>\n",
       "</div>"
      ],
      "text/plain": [
       "   id sentiment                                         text_tweet  \\\n",
       "0   1  positive  <USER_MENTION> #BOIKOT_<PROVIDER_NAME> Gunakan...   \n",
       "1   2  positive  Saktinya balik lagi, alhamdulillah :v <PROVIDE...   \n",
       "2   3  negative  Selamat pagi <PROVIDER_NAME>  bisa bantu kenap...   \n",
       "3   4  negative  Dear <PROVIDER_NAME> akhir2 ini jaringan data ...   \n",
       "4   5  negative            Selamat malam PENDUSTA <PROVIDER_NAME>    \n",
       "\n",
       "   sentiment_value                                         clean_text  \n",
       "0                1                  boikot guna produk bangsa sendiri  \n",
       "1                1                     sakti balik lagi alhamdulillah  \n",
       "2                0  selamat pagi bisa bantu kenapa di dalam kamar ...  \n",
       "3                0     dear akhir2 ini jaring data lot banget padahal  \n",
       "4                0                                selamat malam dusta  "
      ]
     },
     "execution_count": 9,
     "metadata": {},
     "output_type": "execute_result"
    }
   ],
   "source": [
    "data.head()"
   ]
  },
  {
   "cell_type": "markdown",
   "id": "c30a0328-3655-4092-b051-59b53d7915e2",
   "metadata": {},
   "source": [
    "### Feature Extraction"
   ]
  },
  {
   "cell_type": "code",
   "execution_count": 10,
   "id": "b4fd1746-7882-4f89-af19-4f9c36a48441",
   "metadata": {},
   "outputs": [],
   "source": [
    "tfidf = TfidfVectorizer(ngram_range=(1,3))"
   ]
  },
  {
   "cell_type": "code",
   "execution_count": 11,
   "id": "9d2b514d-249f-4706-a373-f78446cc89bf",
   "metadata": {},
   "outputs": [],
   "source": [
    "X = data[['clean_text']]\n",
    "y = data['sentiment_value']"
   ]
  },
  {
   "cell_type": "code",
   "execution_count": 12,
   "id": "e4586628-16da-40eb-a3dd-4ff14357a931",
   "metadata": {},
   "outputs": [],
   "source": [
    "X_train, X_test, y_train, y_test = train_test_split(X, y, test_size=0.25, random_state=42)"
   ]
  },
  {
   "cell_type": "code",
   "execution_count": 13,
   "id": "0d02a5a1-0831-4833-8ffd-18c58f062ae4",
   "metadata": {},
   "outputs": [
    {
     "data": {
      "text/plain": [
       "TfidfVectorizer(ngram_range=(1, 3))"
      ]
     },
     "execution_count": 13,
     "metadata": {},
     "output_type": "execute_result"
    }
   ],
   "source": [
    "tfidf.fit(X_train['clean_text'])"
   ]
  },
  {
   "cell_type": "code",
   "execution_count": 14,
   "id": "c83feed9-459c-4cde-bff4-2fa6b4d9a3ad",
   "metadata": {},
   "outputs": [],
   "source": [
    "x_train_tfidf = tfidf.transform(X_train['clean_text'])"
   ]
  },
  {
   "cell_type": "code",
   "execution_count": 16,
   "id": "2a53bb3d-5f7b-4009-b233-42b67d4ef5c6",
   "metadata": {},
   "outputs": [],
   "source": [
    "x_test_tfidf = tfidf.transform(X_test['clean_text'])"
   ]
  },
  {
   "cell_type": "code",
   "execution_count": 17,
   "id": "39252104-16c3-4cdc-971e-ac15b4ebbb08",
   "metadata": {},
   "outputs": [
    {
     "data": {
      "text/plain": [
       "(225, 3867)"
      ]
     },
     "execution_count": 17,
     "metadata": {},
     "output_type": "execute_result"
    }
   ],
   "source": [
    "x_train_tfidf.shape"
   ]
  },
  {
   "cell_type": "code",
   "execution_count": 18,
   "id": "5859c505-b115-48cd-baf4-88f882ae75b6",
   "metadata": {},
   "outputs": [
    {
     "data": {
      "text/plain": [
       "(75, 3867)"
      ]
     },
     "execution_count": 18,
     "metadata": {},
     "output_type": "execute_result"
    }
   ],
   "source": [
    "x_test_tfidf.shape"
   ]
  },
  {
   "cell_type": "markdown",
   "id": "19064753-addd-46ed-9896-867e1469ce47",
   "metadata": {},
   "source": [
    "### Model"
   ]
  },
  {
   "cell_type": "code",
   "execution_count": 30,
   "id": "2cf1f130-e53c-4221-a28a-8e41f22cf829",
   "metadata": {},
   "outputs": [],
   "source": [
    "# model = RandomForestClassifier()\n",
    "model = SVC(C=1.0, kernel='linear', random_state=42)\n"
   ]
  },
  {
   "cell_type": "code",
   "execution_count": 31,
   "id": "8c6d3ea1-d415-40b0-aa75-b2b75632d4bf",
   "metadata": {},
   "outputs": [],
   "source": [
    "model.fit(x_train_tfidf,y_train)\n",
    "pickle.dump(model, open(f\"../model/model_svc_iter_1.pkl\", 'wb'))"
   ]
  },
  {
   "cell_type": "code",
   "execution_count": 32,
   "id": "2a6d1d93-c104-48db-ac5e-0d9d9bbfead3",
   "metadata": {},
   "outputs": [],
   "source": [
    "y_pred = model.predict(x_test_tfidf)\n"
   ]
  },
  {
   "cell_type": "code",
   "execution_count": 33,
   "id": "ef6bafaa-1ffa-41c4-bfff-84d7749e261b",
   "metadata": {},
   "outputs": [],
   "source": [
    "def evaluation_metrix(actual,prediction,model):\n",
    "    print(f\"accuracy : {accuracy_score(actual,prediction)}\")\n",
    "    print(f\"F1-Score : {f1_score(actual,prediction)}\")\n",
    "    print(f\"ROC AUC Score : {roc_auc_score(actual,prediction,average='macro')}\")\n",
    "    print(\"-\"*50)\n",
    "    print(\"confusion matrix\")\n",
    "    cm = confusion_matrix(actual,prediction,labels=model.classes_)\n",
    "    print(cm)\n",
    "    disp = ConfusionMatrixDisplay(confusion_matrix=cm,display_labels=model.classes_)\n",
    "    disp.plot() \n",
    "    plt.show()\n",
    "    print(\"-\"*50)\n",
    "    print(classification_report(actual,prediction))"
   ]
  },
  {
   "cell_type": "code",
   "execution_count": 34,
   "id": "04aae6f6-8c45-4edd-9b91-191fe3c07f16",
   "metadata": {},
   "outputs": [
    {
     "name": "stdout",
     "output_type": "stream",
     "text": [
      "accuracy : 0.84\n",
      "F1-Score : 0.793103448275862\n",
      "ROC AUC Score : 0.8246753246753247\n",
      "--------------------------------------------------\n",
      "confusion matrix\n",
      "[[40  2]\n",
      " [10 23]]\n"
     ]
    },
    {
     "data": {
      "image/png": "[encoded data removed]",
      "text/plain": [
       "<Figure size 432x288 with 2 Axes>"
      ]
     },
     "metadata": {
      "needs_background": "light"
     },
     "output_type": "display_data"
    },
    {
     "name": "stdout",
     "output_type": "stream",
     "text": [
      "--------------------------------------------------\n",
      "              precision    recall  f1-score   support\n",
      "\n",
      "           0       0.80      0.95      0.87        42\n",
      "           1       0.92      0.70      0.79        33\n",
      "\n",
      "    accuracy                           0.84        75\n",
      "   macro avg       0.86      0.82      0.83        75\n",
      "weighted avg       0.85      0.84      0.84        75\n",
      "\n"
     ]
    }
   ],
   "source": [
    "evaluation_metrix(y_test,y_pred,model)"
   ]
  },
  {
   "cell_type": "code",
   "execution_count": null,
   "id": "4f310dca-25a1-44b0-8e48-a992c6ddd014",
   "metadata": {},
   "outputs": [],
   "source": []
  },
  {
   "cell_type": "code",
   "execution_count": null,
   "id": "0977f374-d983-47de-b199-511408749eb0",
   "metadata": {},
   "outputs": [],
   "source": []
  },
  {
   "cell_type": "code",
   "execution_count": null,
   "id": "bade9b73-3544-4af1-8439-3c25cf476fa0",
   "metadata": {},
   "outputs": [],
   "source": []
  },
  {
   "cell_type": "code",
   "execution_count": null,
   "id": "bcc73f09-3346-4c74-96af-6035d70f611b",
   "metadata": {},
   "outputs": [],
   "source": []
  },
  {
   "cell_type": "code",
   "execution_count": null,
   "id": "7c98d1fe-2afd-4aa4-b344-5a95b9fe68e4",
   "metadata": {},
   "outputs": [],
   "source": []
  },
  {
   "cell_type": "code",
   "execution_count": null,
   "id": "dc5f05a5-b4ba-4ca0-9e4b-9102e7d81d2a",
   "metadata": {},
   "outputs": [],
   "source": []
  },
  {
   "cell_type": "code",
   "execution_count": null,
   "id": "6cfdc33d-4c1c-4b37-b152-892873a237bf",
   "metadata": {},
   "outputs": [],
   "source": []
  },
  {
   "cell_type": "code",
   "execution_count": null,
   "id": "1ba5c980-0a13-44e3-996b-a5da6752e92e",
   "metadata": {},
   "outputs": [],
   "source": []
  },
  {
   "cell_type": "code",
   "execution_count": null,
   "id": "14c4ac29-2755-4ca8-b0fb-7ea661509399",
   "metadata": {},
   "outputs": [],
   "source": []
  },
  {
   "cell_type": "code",
   "execution_count": null,
   "id": "e2d3f488-92fa-457e-a251-d719dcdf9cf8",
   "metadata": {},
   "outputs": [],
   "source": []
  }
 ],
 "metadata": {
  "kernelspec": {
   "display_name": "Python 3 (ipykernel)",
   "language": "python",
   "name": "python3"
  },
  "language_info": {
   "codemirror_mode": {
    "name": "ipython",
    "version": 3
   },
   "file_extension": ".py",
   "mimetype": "text/x-python",
   "name": "python",
   "nbconvert_exporter": "python",
   "pygments_lexer": "ipython3",
   "version": "3.9.6"
  }
 },
 "nbformat": 4,
 "nbformat_minor": 5
}
